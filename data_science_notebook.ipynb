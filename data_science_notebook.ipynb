{
  "nbformat": 4,
  "nbformat_minor": 0,
  "metadata": {
    "colab": {
      "provenance": [],
      "toc_visible": true,
      "authorship_tag": "ABX9TyPlsheSEbtXTyGYJkQog/HV",
      "include_colab_link": true
    },
    "kernelspec": {
      "name": "python3",
      "display_name": "Python 3"
    },
    "language_info": {
      "name": "python"
    }
  },
  "cells": [
    {
      "cell_type": "markdown",
      "metadata": {
        "id": "view-in-github",
        "colab_type": "text"
      },
      "source": [
        "<a href=\"https://colab.research.google.com/github/guanqiaofeng/data-science-demo/blob/main/data_science_notebook.ipynb\" target=\"_parent\"><img src=\"https://colab.research.google.com/assets/colab-badge.svg\" alt=\"Open In Colab\"/></a>"
      ]
    },
    {
      "cell_type": "markdown",
      "source": [
        "## Ingest"
      ],
      "metadata": {
        "id": "nzVRcQiD0UIg"
      }
    },
    {
      "cell_type": "code",
      "source": [],
      "metadata": {
        "id": "YGit3PBh0Sq3"
      },
      "execution_count": null,
      "outputs": []
    },
    {
      "cell_type": "markdown",
      "source": [
        "## EDA"
      ],
      "metadata": {
        "id": "jZZNe7qg0eL9"
      }
    },
    {
      "cell_type": "code",
      "source": [],
      "metadata": {
        "id": "RU7OKzVg0lw_"
      },
      "execution_count": null,
      "outputs": []
    },
    {
      "cell_type": "markdown",
      "source": [
        "## Modeling"
      ],
      "metadata": {
        "id": "b_3o7m8D0jz-"
      }
    },
    {
      "cell_type": "markdown",
      "source": [
        "### subtitle1"
      ],
      "metadata": {
        "id": "rlQ-dlGT0xmC"
      }
    },
    {
      "cell_type": "code",
      "source": [],
      "metadata": {
        "id": "gNgXFAH501Ui"
      },
      "execution_count": null,
      "outputs": []
    },
    {
      "cell_type": "markdown",
      "source": [
        "### subtitle2"
      ],
      "metadata": {
        "id": "Si_-xpxF02RC"
      }
    },
    {
      "cell_type": "code",
      "source": [],
      "metadata": {
        "id": "6_PwgisD0323"
      },
      "execution_count": null,
      "outputs": []
    },
    {
      "cell_type": "code",
      "source": [],
      "metadata": {
        "id": "-a5EGdFt0rHb"
      },
      "execution_count": null,
      "outputs": []
    },
    {
      "cell_type": "markdown",
      "source": [
        "## Conclusion"
      ],
      "metadata": {
        "id": "F2vtJ80A0rp2"
      }
    },
    {
      "cell_type": "code",
      "source": [],
      "metadata": {
        "id": "Xfjc2I6r0t13"
      },
      "execution_count": null,
      "outputs": []
    }
  ]
}